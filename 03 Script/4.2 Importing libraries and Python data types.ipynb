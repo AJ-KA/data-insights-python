{
 "cells": [
  {
   "cell_type": "code",
   "execution_count": 1,
   "id": "c1cffee6-68e7-470e-a39f-bd2679aed5b8",
   "metadata": {},
   "outputs": [],
   "source": [
    "# Import libraries"
   ]
  },
  {
   "cell_type": "code",
   "execution_count": 3,
   "id": "5f677993-b2eb-4760-930d-037adccd2153",
   "metadata": {},
   "outputs": [],
   "source": [
    "import pandas as pd\n",
    "import numpy as np\n",
    "import os "
   ]
  },
  {
   "cell_type": "code",
   "execution_count": 5,
   "id": "866d114d-6ed0-4809-b831-e5be6f448f20",
   "metadata": {},
   "outputs": [],
   "source": [
    "# Python data types - drafting section"
   ]
  },
  {
   "cell_type": "code",
   "execution_count": 11,
   "id": "c4950c69-beb9-4643-b128-0154db3c8097",
   "metadata": {},
   "outputs": [
    {
     "data": {
      "text/plain": [
       "100"
      ]
     },
     "execution_count": 11,
     "metadata": {},
     "output_type": "execute_result"
    }
   ],
   "source": [
    "50  + 50"
   ]
  },
  {
   "cell_type": "code",
   "execution_count": 15,
   "id": "e3641cb5-bff3-4199-b0ac-89b5c2a39e03",
   "metadata": {},
   "outputs": [],
   "source": [
    "y= 120"
   ]
  },
  {
   "cell_type": "code",
   "execution_count": 17,
   "id": "f8bf49df-51ee-4e68-8a90-f9492e9be663",
   "metadata": {},
   "outputs": [],
   "source": [
    "x= 20"
   ]
  },
  {
   "cell_type": "code",
   "execution_count": 19,
   "id": "85ae0095-ae20-45da-a1ad-500efc1eadd0",
   "metadata": {},
   "outputs": [
    {
     "data": {
      "text/plain": [
       "100"
      ]
     },
     "execution_count": 19,
     "metadata": {},
     "output_type": "execute_result"
    }
   ],
   "source": [
    "y-x"
   ]
  },
  {
   "cell_type": "code",
   "execution_count": 21,
   "id": "847f6b0c-209c-439c-959f-e85751002f77",
   "metadata": {},
   "outputs": [
    {
     "data": {
      "text/plain": [
       "100"
      ]
     },
     "execution_count": 21,
     "metadata": {},
     "output_type": "execute_result"
    }
   ],
   "source": [
    "x+80"
   ]
  },
  {
   "cell_type": "code",
   "execution_count": 31,
   "id": "b50f6e95-0652-4516-91d9-44e2a3143330",
   "metadata": {},
   "outputs": [],
   "source": [
    "a= 7.3"
   ]
  },
  {
   "cell_type": "code",
   "execution_count": 33,
   "id": "0712f87d-8962-42e3-bc47-673a2954e382",
   "metadata": {},
   "outputs": [],
   "source": [
    "b= 6.6"
   ]
  },
  {
   "cell_type": "code",
   "execution_count": 35,
   "id": "79f3a948-961f-4544-8732-b3ecaf0e23ea",
   "metadata": {},
   "outputs": [
    {
     "data": {
      "text/plain": [
       "0.7000000000000002"
      ]
     },
     "execution_count": 35,
     "metadata": {},
     "output_type": "execute_result"
    }
   ],
   "source": [
    "a-b"
   ]
  },
  {
   "cell_type": "code",
   "execution_count": 37,
   "id": "9b24fee3-2739-472f-90d3-21a227859970",
   "metadata": {},
   "outputs": [],
   "source": [
    "n= 'Note'"
   ]
  },
  {
   "cell_type": "code",
   "execution_count": 39,
   "id": "5bd9d969-5cf7-48d5-b6f9-034d4a2159b2",
   "metadata": {},
   "outputs": [],
   "source": [
    "m= 'book'"
   ]
  },
  {
   "cell_type": "code",
   "execution_count": 41,
   "id": "0426e120-1cff-452f-87fa-ca94995b1e74",
   "metadata": {},
   "outputs": [
    {
     "data": {
      "text/plain": [
       "'Notebook'"
      ]
     },
     "execution_count": 41,
     "metadata": {},
     "output_type": "execute_result"
    }
   ],
   "source": [
    "n+m"
   ]
  },
  {
   "cell_type": "code",
   "execution_count": 47,
   "id": "14fd34dc-296b-46c8-87d3-f8e9a94337a9",
   "metadata": {},
   "outputs": [],
   "source": [
    "p= 'Winter is coming. '"
   ]
  },
  {
   "cell_type": "code",
   "execution_count": 49,
   "id": "65f05e04-67d3-43bc-92d3-a92c06218d9c",
   "metadata": {},
   "outputs": [],
   "source": [
    "q= ' Be prepared.'"
   ]
  },
  {
   "cell_type": "code",
   "execution_count": 51,
   "id": "289d2cee-28c8-4768-a825-1447ebc4c51b",
   "metadata": {},
   "outputs": [
    {
     "data": {
      "text/plain": [
       "'Winter is coming.  Be prepared.'"
      ]
     },
     "execution_count": 51,
     "metadata": {},
     "output_type": "execute_result"
    }
   ],
   "source": [
    "p + q"
   ]
  },
  {
   "cell_type": "code",
   "execution_count": null,
   "id": "7dd91919-6cbd-42a7-ace6-ea13fa341e83",
   "metadata": {},
   "outputs": [],
   "source": []
  }
 ],
 "metadata": {
  "kernelspec": {
   "display_name": "Python 3 (ipykernel)",
   "language": "python",
   "name": "python3"
  },
  "language_info": {
   "codemirror_mode": {
    "name": "ipython",
    "version": 3
   },
   "file_extension": ".py",
   "mimetype": "text/x-python",
   "name": "python",
   "nbconvert_exporter": "python",
   "pygments_lexer": "ipython3",
   "version": "3.12.4"
  }
 },
 "nbformat": 4,
 "nbformat_minor": 5
}
